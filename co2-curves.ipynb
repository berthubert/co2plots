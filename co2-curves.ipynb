{
 "cells": [
  {
   "cell_type": "code",
   "execution_count": null,
   "id": "fb4fc62a",
   "metadata": {},
   "outputs": [],
   "source": [
    "%matplotlib notebook\n",
    "%precision 3\n",
    "\n",
    "from IPython.display import set_matplotlib_formats\n",
    "from pandas.plotting import register_matplotlib_converters\n",
    "register_matplotlib_converters()\n",
    "\n",
    "import matplotlib\n",
    "import math\n",
    "import numpy as np\n",
    "import matplotlib.pyplot as plt\n",
    "plt.rcParams['figure.figsize'] = [9.5, 5]\n",
    "import pandas"
   ]
  },
  {
   "cell_type": "code",
   "execution_count": null,
   "id": "1a1f8b16",
   "metadata": {},
   "outputs": [],
   "source": [
    "# C. D. Keeling, S. C. Piper, R. B. Bacastow, M. Wahlen, T. P. Whorf, M. Heimann, and H. A. Meijer, Exchanges of atmospheric CO2 and 13CO2 with the terrestrial biosphere and oceans from 1978 to 2000. I. Global aspects, SIO Reference Series, No. 01-06, Scripps Institution of Oceanography, San Diego, 88 pages, 2001."
   ]
  },
  {
   "cell_type": "code",
   "execution_count": null,
   "id": "88d5a123",
   "metadata": {},
   "outputs": [],
   "source": [
    "# source: https://scrippsco2.ucsd.edu/data/atmospheric_co2/mlo.html\n",
    "co2s=pandas.read_csv(\"https://scrippsco2.ucsd.edu/assets/data/atmospheric/stations/in_situ_co2/weekly/weekly_in_situ_co2_mlo.csv\", skiprows=44, header=0,names=[\"date\", \"co2ppm\"])\n",
    "co2s[\"timestamp\"]=pandas.to_datetime(co2s[\"date\"],infer_datetime_format=True)\n",
    "co2s[\"doy\"]=co2s.timestamp.dt.day_of_year\n",
    "co2s[\"year\"]=co2s.timestamp.dt.year\n",
    "co2s.set_index(\"timestamp\", inplace=True)\n"
   ]
  },
  {
   "cell_type": "code",
   "execution_count": null,
   "id": "733649dc",
   "metadata": {},
   "outputs": [],
   "source": [
    "co2s"
   ]
  },
  {
   "cell_type": "code",
   "execution_count": null,
   "id": "c8fb43c6",
   "metadata": {},
   "outputs": [],
   "source": [
    "plt.figure()\n",
    "plt.plot(co2s.co2ppm)\n",
    "plt.plot(co2s.co2ppm.rolling(52, center=True).mean())\n",
    "plt.title('Mauna Loa Observatory CO2 PPM')\n",
    "plt.ylabel(\"ppm\")\n",
    "plt.grid()"
   ]
  },
  {
   "cell_type": "code",
   "execution_count": null,
   "id": "d1a28bb5",
   "metadata": {},
   "outputs": [],
   "source": [
    "plt.figure()\n",
    "absol=np.abs(co2s.co2ppm.rolling(52, center=True).mean() - co2s.co2ppm)\n",
    "plt.plot(absol)\n",
    "plt.plot(absol.rolling(\"365d\").mean())\n",
    "plt.title(\"Absolute deviation of Mauna Loa Observatory CO2 PPM from annualized data\")\n",
    "plt.ylabel(\"abs ppm\")\n",
    "plt.grid()"
   ]
  },
  {
   "cell_type": "code",
   "execution_count": null,
   "id": "d5c7f3c0",
   "metadata": {},
   "outputs": [],
   "source": [
    "plt.figure()\n",
    "co2s[\"devia\"] = co2s.co2ppm- co2s.co2ppm.rolling(52, center=True).mean()\n",
    "plt.plot(co2s.devia)\n",
    "plt.title(\"Deviation of Mauna Loa Observatory CO2 PPM from annualized data\")\n",
    "plt.ylabel(\"ppm\")\n",
    "\n",
    "plt.grid()"
   ]
  },
  {
   "cell_type": "code",
   "execution_count": null,
   "id": "3cb41e49",
   "metadata": {},
   "outputs": [],
   "source": [
    "clean=co2s.dropna()\n",
    "clean"
   ]
  },
  {
   "cell_type": "code",
   "execution_count": null,
   "id": "eda52963",
   "metadata": {},
   "outputs": [],
   "source": [
    "part1=clean[\"2000-01-01\":]\n",
    "coeff1 = np.polyfit(part1.doy, part1.devia, 7)\n",
    "part2=clean[:\"2000-01-01\"]\n",
    "coeff2 = np.polyfit(part2.doy, part2.devia, 7)\n",
    "\n",
    "days=np.linspace(0, 365, 52)"
   ]
  },
  {
   "cell_type": "code",
   "execution_count": null,
   "id": "c289ff53",
   "metadata": {},
   "outputs": [],
   "source": [
    "plt.figure()\n",
    "plt.scatter(part1.doy, part1.devia, s=0.1)\n",
    "plt.scatter(part2.doy, part2.devia, s=0.1)\n",
    "plt.plot(days, np.polyval(coeff1, days), label=\"Deviation <2000\")\n",
    "plt.plot(days, np.polyval(coeff2, days), label=\"Deviation >=2000\")\n",
    "plt.grid()\n",
    "plt.legend()\n",
    "plt.title(\"Deviation of annualized Mauna Loa Observatory CO2 PPM per day of year\")"
   ]
  },
  {
   "cell_type": "code",
   "execution_count": null,
   "id": "0d316954",
   "metadata": {},
   "outputs": [],
   "source": [
    "plt.figure()\n",
    "trend=co2s.co2ppm - np.polyval(coeff2, co2s.doy)\n",
    "plt.plot(trend, label=\"With annual swing removed\")\n",
    "plt.plot(co2s.co2ppm, alpha=0.2, color='blue', label=\"Unadjusted\")\n",
    "plt.title(\"Mauna Loa Observatory CO2 PPM with/without annual swing removed\")\n",
    "plt.ylabel(\"ppm\")\n",
    "plt.legend()\n",
    "plt.grid()"
   ]
  },
  {
   "cell_type": "code",
   "execution_count": null,
   "id": "f36663e5",
   "metadata": {},
   "outputs": [],
   "source": [
    "plt.figure()\n",
    "plt.plot(52*trend[\"1989-01-01\":].diff().rolling(52).mean(), label=\"Lagging yearly average\")\n",
    "plt.plot(52*trend[\"1980-01-01\":].diff().rolling(520).mean(), label=\"Lagging 10 year average\")\n",
    "\n",
    "plt.grid()\n",
    "plt.ylabel(\"PPM/year\")\n",
    "plt.axhline(2.4, color='red', xmin=0.83, xmax=0.97, label='2.4ppm/year')\n",
    "plt.axhline(1.935, color='red', xmin=0.41, xmax=0.58, label='1.935ppm/year')\n",
    "\n",
    "plt.axhline(1.5, color='red',xmin=0.05, xmax=0.35, label='1.5ppm/year')\n",
    "\n",
    "plt.title(\"Yearly rate of increase of Mauna Loa Observatory CO2 PPM compensated for annual variation\")\n",
    "plt.legend()"
   ]
  },
  {
   "cell_type": "code",
   "execution_count": null,
   "id": "8fe2009f",
   "metadata": {},
   "outputs": [],
   "source": [
    "plt.figure()\n",
    "yearlies=co2s.groupby([\"year\"]).co2ppm.mean().diff().dropna()\n",
    "res=yearlies.reset_index()\n",
    "res=res[(res.year!=2023) & (res.year > 1990)]\n",
    "plt.ylim(0,4)\n",
    "coeffg=np.polyfit(res.year, res.co2ppm, 2)\n",
    "plt.plot(res.year, np.polyval(coeffg,res.year))\n",
    "plt.plot(res.year, res.co2ppm, '-+')\n",
    "plt.grid()\n",
    "plt.title(\"Yearly change in Mauna Loa Observatory CO$_2$ concentration\")"
   ]
  }
 ],
 "metadata": {
  "kernelspec": {
   "display_name": "Python 3 (ipykernel)",
   "language": "python",
   "name": "python3"
  },
  "language_info": {
   "codemirror_mode": {
    "name": "ipython",
    "version": 3
   },
   "file_extension": ".py",
   "mimetype": "text/x-python",
   "name": "python",
   "nbconvert_exporter": "python",
   "pygments_lexer": "ipython3",
   "version": "3.10.6"
  }
 },
 "nbformat": 4,
 "nbformat_minor": 5
}
